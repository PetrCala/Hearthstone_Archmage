{
 "cells": [
  {
   "cell_type": "code",
   "execution_count": 9,
   "source": [
    "#!{sys.executable} -m pip install --upgrade --no-cache-dir pysimplegui\r\n",
    "#!{sys.executable} -m pip install --upgrade --no-cache-dirpip install PyInstaller\r\n",
    "#Importing the data extractor scripts\r\n",
    "import sys\r\n",
    "sys.path.insert(0, 'C:\\\\Users\\\\AU451FE\\\\OneDrive - EY\\\\Desktop\\\\Python\\\\Hearthstone_Archmage\\\\Scripts')\r\n",
    "from DataProcessor import DataProcessor\r\n",
    "from DataExtractor import DataExtractor\r\n",
    "#import Extractors\r\n",
    "#from UltimateExtractor import UltimateExtractor as UE\r\n",
    "\r\n",
    "#Other useful packages\r\n",
    "import time\r\n",
    "import datetime\r\n",
    "import pandas as pd\r\n",
    "import numpy as np\r\n",
    "import re #String search\r\n",
    "import os\r\n",
    "#import PySimpleGUI as sg\r\n"
   ],
   "outputs": [],
   "metadata": {}
  },
  {
   "cell_type": "code",
   "execution_count": 10,
   "source": [
    "deck_folder = r'C:\\Users\\AU451FE\\OneDrive - EY\\Desktop\\Python\\Hearthstone_Archmage\\Data Frames'\r\n",
    "analysis_path = r'C:\\Users\\AU451FE\\OneDrive - EY\\Desktop\\Python\\Hearthstone_Archmage\\Data Frames\\Analyzed'\r\n",
    "\r\n",
    "DP = DataProcessor(deck_folder, analysis_path)"
   ],
   "outputs": [],
   "metadata": {}
  },
  {
   "cell_type": "code",
   "execution_count": 11,
   "source": [
    "output = DP.analyze_deck_winrates(date = '07-09', class_name = ['Rogue', 'Warrior'])"
   ],
   "outputs": [],
   "metadata": {}
  },
  {
   "cell_type": "code",
   "execution_count": null,
   "source": [
    "test_str = 'chromerdriver.exe'\r\n",
    "'.exe' in test_str"
   ],
   "outputs": [],
   "metadata": {}
  }
 ],
 "metadata": {
  "kernelspec": {
   "name": "python3",
   "display_name": "Python 3.8.8 64-bit ('base': conda)"
  },
  "language_info": {
   "codemirror_mode": {
    "name": "ipython",
    "version": 3
   },
   "file_extension": ".py",
   "mimetype": "text/x-python",
   "name": "python",
   "nbconvert_exporter": "python",
   "pygments_lexer": "ipython3",
   "version": "3.8.8"
  },
  "interpreter": {
   "hash": "08c7c885aa6d9672c9cdd1fea7abcc1333594f8ebfba4f1f0c8b5f71ef0c7f5f"
  }
 },
 "nbformat": 4,
 "nbformat_minor": 5
}