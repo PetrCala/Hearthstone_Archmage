{
 "cells": [
  {
   "cell_type": "code",
   "execution_count": 9,
   "source": [
    "#!{sys.executable} -m pip install --upgrade --no-cache-dir pysimplegui\r\n",
    "#!{sys.executable} -m pip install --upgrade --no-cache-dirpip install PyInstaller\r\n",
    "#Importing the data extractor scripts\r\n",
    "import sys\r\n",
    "sys.path.insert(0, 'C:\\\\Users\\\\AU451FE\\\\OneDrive - EY\\\\Desktop\\\\Python\\\\Hearthstone_Archmage\\\\Scripts')\r\n",
    "from DataProcessor import DataProcessor\r\n",
    "from DataExtractor import DataExtractor\r\n",
    "#import Extractors\r\n",
    "#from UltimateExtractor import UltimateExtractor as UE\r\n",
    "\r\n",
    "#Other useful packages\r\n",
    "import time\r\n",
    "import datetime\r\n",
    "import pandas as pd\r\n",
    "import numpy as np\r\n",
    "import re #String search\r\n",
    "import os\r\n",
    "#import PySimpleGUI as sg\r\n"
   ],
   "outputs": [],
   "metadata": {}
  },
  {
   "cell_type": "code",
   "execution_count": 32,
   "source": [
    "deck_folder = r'C:\\Users\\AU451FE\\OneDrive - EY\\Desktop\\Python\\Hearthstone_Archmage\\Data Frames'\r\n",
    "analysis_path = r'C:\\Users\\AU451FE\\OneDrive - EY\\Desktop\\Python\\Hearthstone_Archmage\\Data Frames\\Analyzed'\r\n",
    "\r\n",
    "DP = DataProcessor(deck_folder, analysis_path)"
   ],
   "outputs": [],
   "metadata": {}
  },
  {
   "cell_type": "code",
   "execution_count": 44,
   "source": [
    "output = DP.prepare_winrates_df(date = '07-09')"
   ],
   "outputs": [],
   "metadata": {}
  },
  {
   "cell_type": "code",
   "execution_count": null,
   "source": [
    "        #Class_archetype selection\r\n",
    "        \r\n",
    "        col4 = sg.Column([[sg.Frame(layout = [\r\n",
    "            #Class column\r\n",
    "            [sg.Column([[sg.Text('Use data for:', size = (34,1), justification = 'center')],\r\n",
    "            [sg.Text('', size = (12,1)), sg.Checkbox('All', size=(12,1), key = '-DE-ALL-')],\r\n",
    "            self.generate_class_elements(el_type = 'Checkbox', key_tag = 'DE', size = (12,1), start = 1, end = 2),\r\n",
    "            self.generate_class_elements(el_type = 'Checkbox', key_tag = 'DE', size = (12,1), start = 3, end = 4),        \r\n",
    "            self.generate_class_elements(el_type = 'Checkbox', key_tag = 'DE', size = (12,1), start = 5, end = 6),\r\n",
    "            self.generate_class_elements(el_type = 'Checkbox', key_tag = 'DE', size = (12,1), start = 7, end = 8),                             \r\n",
    "            self.generate_class_elements(el_type = 'Checkbox', key_tag = 'DE', size = (12,1), start = 9, end = 10),                             \r\n",
    "            [sg.Text('Analyze win rate against:', size = (34,1), justification = 'center')],\r\n",
    "            [sg.Text('', size = (12,1)), sg.Checkbox('All', size=(12,1), key = '-DE-VS-ALL-')],\r\n",
    "            self.generate_class_elements(el_type = 'Checkbox', key_tag = 'DE-VS', size = (12,1), start = 1, end = 2),\r\n",
    "            self.generate_class_elements(el_type = 'Checkbox', key_tag = 'DE-VS', size = (12,1), start = 3, end = 4),        \r\n",
    "            self.generate_class_elements(el_type = 'Checkbox', key_tag = 'DE-VS', size = (12,1), start = 5, end = 6),\r\n",
    "            self.generate_class_elements(el_type = 'Checkbox', key_tag = 'DE-VS', size = (12,1), start = 7, end = 8),                             \r\n",
    "            self.generate_class_elements(el_type = 'Checkbox', key_tag = 'DE-VS', size = (12,1), start = 9, end = 10)]\r\n",
    "                , visible=True, key='-DE-SELECT-CLASS-'),\r\n",
    "             #Archetype column\r\n",
    "             sg.Column([[sg.Text('Use data for:', size = (34,1), justification = 'center')],\r\n",
    "            [sg.Text('Archetype:', size = (8,1)),\r\n",
    "             sg.I(size=(21, 1), key = '-DE-ARCHETYPE-NAME-'),\r\n",
    "             sg.Submit('OK', size = (3,1), key = '-DE-SUBMIT-ARCHETYPE-')],\r\n",
    "            [sg.Text('', size = (34,1), key = '-DE-ARCHETYPE-CONFIRMATION-')],\r\n",
    "            [sg.Text('', size = (34, 7))],\r\n",
    "            [sg.Text('Analyze win rate against:', size = (34,1), justification = 'center')],\r\n",
    "            [sg.Text('', size = (12,1)), sg.Checkbox('All', size=(12,1), key = '-DE-ARCH-VS-ALL-')],\r\n",
    "            self.generate_class_elements(el_type = 'Checkbox', key_tag = 'DE-ARCH-VS', size = (12,1), start = 1, end = 2),\r\n",
    "            self.generate_class_elements(el_type = 'Checkbox', key_tag = 'DE-ARCH-VS', size = (12,1), start = 3, end = 4),        \r\n",
    "            self.generate_class_elements(el_type = 'Checkbox', key_tag = 'DE-ARCH-VS', size = (12,1), start = 5, end = 6),\r\n",
    "            self.generate_class_elements(el_type = 'Checkbox', key_tag = 'DE-ARCH-VS', size = (12,1), start = 7, end = 8),                             \r\n",
    "            self.generate_class_elements(el_type = 'Checkbox', key_tag = 'DE-ARCH-VS', size = (12,1), start = 9, end = 10)]\r\n",
    "                , visible = False, key = '-DE-SELECT-ARCHETYPE-')]], \r\n",
    "                                    title = '')]],justification = 'left')"
   ],
   "outputs": [],
   "metadata": {}
  },
  {
   "cell_type": "code",
   "execution_count": null,
   "source": [
    "   #new\r\n",
    "        col4 = sg.Column([[sg.Frame(layout = [\r\n",
    "            [sg.Column([[sg.Text('Use data for:', size = (34,1), justification = 'center')],\r\n",
    "             [sg.Text('', size = (12,1)), sg.Checkbox('All', size=(12,1), key = '-DE-ALL-')],\r\n",
    "             self.generate_class_elements(el_type = 'Checkbox', key_tag = 'DE', size = (12,1), start = 1, end = 2),\r\n",
    "             self.generate_class_elements(el_type = 'Checkbox', key_tag = 'DE', size = (12,1), start = 3, end = 4),        \r\n",
    "             self.generate_class_elements(el_type = 'Checkbox', key_tag = 'DE', size = (12,1), start = 5, end = 6),\r\n",
    "             self.generate_class_elements(el_type = 'Checkbox', key_tag = 'DE', size = (12,1), start = 7, end = 8),                             \r\n",
    "             self.generate_class_elements(el_type = 'Checkbox', key_tag = 'DE', size = (12,1), start = 9, end = 10)]\r\n",
    "                ,visible=True, key='-DE-SELECT-CLASS-'),\r\n",
    "             #Archetype column\r\n",
    "            sg.Column([[sg.Text('Use data for:', size = (34,1), justification = 'center')],\r\n",
    "                        [sg.Text('Archetype:', size = (8,1)),\r\n",
    "                        sg.I(size=(21, 1), key = '-DE-ARCHETYPE-NAME-'),\r\n",
    "                        sg.Submit('OK', size = (3,1), key = '-DE-SUBMIT-ARCHETYPE-')],\r\n",
    "                        [sg.Text('', size = (34,1), key = '-DE-ARCHETYPE-CONFIRMATION-')],\r\n",
    "                        [sg.Text('', size = (34, 7))]]\r\n",
    "                            ,visible = False, key = '-DE-SELECT-ARCHETYPE-')],\r\n",
    "            [sg.Column([[sg.Text('Analyze win rate against:', size = (34,1), justification = 'center')],\r\n",
    "             [sg.Text('', size = (12,1)), sg.Checkbox('All', size=(12,1), key = '-DE-ARCH-VS-ALL-')],\r\n",
    "             self.generate_class_elements(el_type = 'Checkbox', key_tag = 'DE-VS', size = (12,1), start = 1, end = 2),\r\n",
    "             self.generate_class_elements(el_type = 'Checkbox', key_tag = 'DE-VS', size = (12,1), start = 3, end = 4),        \r\n",
    "             self.generate_class_elements(el_type = 'Checkbox', key_tag = 'DE-VS', size = (12,1), start = 5, end = 6),\r\n",
    "             self.generate_class_elements(el_type = 'Checkbox', key_tag = 'DE-VS', size = (12,1), start = 7, end = 8),                             \r\n",
    "             self.generate_class_elements(el_type = 'Checkbox', key_tag = 'DE-VS', size = (12,1), start = 9, end = 10)])]\r\n",
    "                    ], title = '')\r\n",
    "                            ]], justification = 'left')"
   ],
   "outputs": [],
   "metadata": {}
  }
 ],
 "metadata": {
  "kernelspec": {
   "name": "python3",
   "display_name": "Python 3.8.8 64-bit ('base': conda)"
  },
  "language_info": {
   "codemirror_mode": {
    "name": "ipython",
    "version": 3
   },
   "file_extension": ".py",
   "mimetype": "text/x-python",
   "name": "python",
   "nbconvert_exporter": "python",
   "pygments_lexer": "ipython3",
   "version": "3.8.8"
  },
  "interpreter": {
   "hash": "08c7c885aa6d9672c9cdd1fea7abcc1333594f8ebfba4f1f0c8b5f71ef0c7f5f"
  }
 },
 "nbformat": 4,
 "nbformat_minor": 5
}