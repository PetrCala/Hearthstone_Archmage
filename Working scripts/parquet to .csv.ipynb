{
 "cells": [
  {
   "cell_type": "code",
   "execution_count": 24,
   "id": "fatty-sunrise",
   "metadata": {},
   "outputs": [],
   "source": [
    "import os\n",
    "import sys\n",
    "import pandas as pd\n",
    "#!{sys.executable} -m pip install pyarrow\n",
    "#!{sys.executable} -m pip install fastparquet"
   ]
  },
  {
   "cell_type": "code",
   "execution_count": 29,
   "id": "phantom-nashville",
   "metadata": {},
   "outputs": [],
   "source": [
    "listOfFiles = list()\n",
    "for (dirpath, dirnames, filenames) in os.walk(r'C:\\Users\\AU451FE\\OneDrive - EY\\Desktop\\Projects\\MMR\\Data\\Copied parquets new'):\n",
    "    listOfFiles += [os.path.join(dirpath, file) for file in filenames]"
   ]
  },
  {
   "cell_type": "code",
   "execution_count": 30,
   "id": "adverse-murray",
   "metadata": {},
   "outputs": [],
   "source": [
    "result =pd.read_parquet(listOfFiles[0]) \n",
    "for file in listOfFiles[1:]:\n",
    "    result = result.append(pd.read_parquet(file))"
   ]
  },
  {
   "cell_type": "code",
   "execution_count": 31,
   "id": "least-astrology",
   "metadata": {},
   "outputs": [],
   "source": [
    "output_path = r'C:\\Users\\AU451FE\\OneDrive - EY\\Desktop\\Projects\\MMR\\Csv output\\New'"
   ]
  },
  {
   "cell_type": "code",
   "execution_count": 33,
   "id": "generous-nelson",
   "metadata": {},
   "outputs": [],
   "source": [
    "result.to_csv(output_path+'OP_joined.csv', index=False, sep = '&', quotechar=\"*\")"
   ]
  }
 ],
 "metadata": {
  "kernelspec": {
   "display_name": "Python 3",
   "language": "python",
   "name": "python3"
  },
  "language_info": {
   "codemirror_mode": {
    "name": "ipython",
    "version": 3
   },
   "file_extension": ".py",
   "mimetype": "text/x-python",
   "name": "python",
   "nbconvert_exporter": "python",
   "pygments_lexer": "ipython3",
   "version": "3.8.8"
  }
 },
 "nbformat": 4,
 "nbformat_minor": 5
}
