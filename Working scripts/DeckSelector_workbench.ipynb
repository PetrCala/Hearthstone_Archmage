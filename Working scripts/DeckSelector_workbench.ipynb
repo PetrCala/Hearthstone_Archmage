{
 "cells": [
  {
   "cell_type": "code",
   "execution_count": 5,
   "id": "eb0b6ac2",
   "metadata": {},
   "outputs": [],
   "source": [
    "#Installing packages onto the device\n",
    "#!{sys.executable} -m pip install -U selenium\n",
    "\n",
    "import sys\n",
    "\n",
    "#Define the folder with the python scripts for web scraping in order to import these scripts\n",
    "sys.path.insert(0, 'C:\\\\Users\\\\AU451FE\\\\OneDrive - EY\\\\Desktop\\\\Python\\\\HSreplay_scraper\\\\Scripts')\n",
    "from Analyzer import DeckAnalyzer as DA\n",
    "from Selector import DeckSelector as DS\n",
    "\n",
    "#External browser Selenium\n",
    "import selenium\n",
    "from selenium import webdriver\n",
    "from selenium.webdriver.common.keys import Keys\n",
    "from selenium.webdriver.common.desired_capabilities import DesiredCapabilities\n",
    "from selenium.common.exceptions import TimeoutException\n",
    "from selenium.webdriver.support.ui import WebDriverWait\n",
    "from selenium.webdriver.support import expected_conditions as EC\n",
    "\n",
    "\n",
    "#Other useful packages\n",
    "import sys\n",
    "from bs4 import BeautifulSoup\n",
    "import requests\n",
    "import time\n",
    "from datetime import date\n",
    "import datetime\n",
    "import pandas as pd\n",
    "import numpy as np\n",
    "import re #String search\n",
    "import warnings\n",
    "\n",
    "#Silence the deprecation warning when minimizing the external drivers\n",
    "warnings.filterwarnings('ignore', category=DeprecationWarning)\n"
   ]
  },
  {
   "cell_type": "code",
   "execution_count": 6,
   "id": "009605c3",
   "metadata": {},
   "outputs": [],
   "source": [
    "driver_path = 'C:/Users/AU451FE/OneDrive - EY/Desktop/Python/HSreplay_scraper/chromedriver'\n",
    "#deck_code = 'TDJ576DqVJdHynQToOkWtb'\n",
    "class_name = 'Warrior'\n",
    "class_archetype = '222'"
   ]
  },
  {
   "cell_type": "code",
   "execution_count": 8,
   "id": "495f9bc3",
   "metadata": {},
   "outputs": [],
   "source": [
    "class DeckSelector:\n",
    "    '''Define the class and archetype of a deck at hsreplay.net and return the analysis of the decks of said archetype\n",
    "        featured on that website\n",
    "        \n",
    "        deck_class = name of the class in quotes (e.g. 'Druid')\n",
    "        deck_archetype = code for the archetype in quotes (e.g. '372')\n",
    "    '''\n",
    "    def __init__(self, deck_class, deck_archetype):\n",
    "        deck_class = deck_class.upper()    #Converting the deck_class into upper case\n",
    "        self.url = f'https://hsreplay.net/decks/#playerClasses={deck_class}&gameType=RANKED_STANDARD&archetypes={deck_archetype}'\n",
    "  \n",
    "        options = webdriver.ChromeOptions()\n",
    "        options.set_headless(True) \n",
    "        \n",
    "        \n",
    "        self.driver = webdriver.Chrome(driver_path,options=options)\n",
    "        self.driver.get(self.url) \n",
    "        \n",
    "        self.driver.maximize_window()      #Maximize the window\n",
    "\n",
    "        #Closing the privacy settings window\n",
    "        try:\n",
    "            WebDriverWait(self.driver, 10).until(lambda x: x.find_element_by_class_name('css-flk0bs'))\n",
    "            self.driver.find_element_by_class_name('css-flk0bs').click()\n",
    "        except TimeoutException:\n",
    "            raise Exception('The privacy window has not shown up; try running the script again')\n",
    "        \n",
    "        \n",
    "        #Looks for the codes of the specified archetype\n",
    "        list_decks = self.driver.find_elements_by_class_name('deck-tile')\n",
    "        \n",
    "        codes = []\n",
    "        for l in list_decks:\n",
    "            link = l.get_attribute('href')\n",
    "\n",
    "            try:\n",
    "                m = re.search('decks/(.+?)/#game', link).group(1)\n",
    "\n",
    "            except AttributeError:\n",
    "                print(f'The entered URL is invalid')\n",
    "                break\n",
    "            codes.append(m)\n",
    "\n",
    "        self.codes = codes\n",
    "        print('The codes are stored under the attribute self.codes')\n",
    "        \n",
    "        #Get the archetype name\n",
    "        self.archetype_name = self.driver.find_element_by_xpath('//*[@id=\"decks-container\"]/main/div[3]/section/ul/li[2]/a/div/div[1]/h3').text\n",
    "        self.driver.quit()\n",
    "    \n",
    "    def get_overviews_df(self):\n",
    "        '''Return a data frame with an overview of all decks of a given archetype\n",
    "        '''\n",
    "        overviews_df = pd.DataFrame()\n",
    "        for c in self.codes:\n",
    "            D = DA(driver_path, c)\n",
    "            df = D.get_overview_df()\n",
    "            overviews_df = pd.concat([overviews_df, df], axis = 0)\n",
    "            \n",
    "            deck_position = self.codes.index(c) + 1\n",
    "            print(f'Generated data for {deck_position}/{len(self.codes)} decks of archetype {self.archetype_name}')\n",
    "            \n",
    "        overviews_df = overviews_df.reset_index()\n",
    "        return overviews_df\n",
    "    \n",
    "    def write_to_excel(self, today = date.today().strftime(\"%m-%d\")):\n",
    "        df = self.get_overviews_df()\n",
    "        \n",
    "        with pd.ExcelWriter(f'C:/Users/AU451FE/OneDrive - EY/Desktop/Python/HSreplay_Scraper/Data Frames/{self.archetype_name} {today}.xlsx') as writer:\n",
    "            df.to_excel(writer, sheet_name = 'Overview')\n",
    "\n"
   ]
  },
  {
   "cell_type": "code",
   "execution_count": 10,
   "id": "d5bc4cef",
   "metadata": {},
   "outputs": [
    {
     "name": "stdout",
     "output_type": "stream",
     "text": [
      "The codes are stored under the attribute self.codes\n"
     ]
    }
   ],
   "source": [
    "S = DeckSelector(class_name, class_archetype)"
   ]
  },
  {
   "cell_type": "code",
   "execution_count": 14,
   "id": "a577bbba",
   "metadata": {},
   "outputs": [],
   "source": [
    "#codes_here = ['sUGg1miAk6Drk72nX1uhhc',\n",
    "# 'L5ODjRqeQI5mFk8P6i1mhe']"
   ]
  },
  {
   "cell_type": "code",
   "execution_count": 15,
   "id": "ae1f1779",
   "metadata": {},
   "outputs": [
    {
     "name": "stdout",
     "output_type": "stream",
     "text": [
      "Generating the overview\n",
      "Generated data for 1/18 decks of archetype Rush Warrior\n",
      "Generating the overview\n",
      "Generated data for 2/18 decks of archetype Rush Warrior\n",
      "Generating the overview\n",
      "Generated data for 3/18 decks of archetype Rush Warrior\n",
      "Generating the overview\n",
      "Generated data for 4/18 decks of archetype Rush Warrior\n",
      "Generating the overview\n",
      "Generated data for 5/18 decks of archetype Rush Warrior\n",
      "Generating the overview\n",
      "Generated data for 6/18 decks of archetype Rush Warrior\n",
      "Generating the overview\n",
      "Generated data for 7/18 decks of archetype Rush Warrior\n",
      "Generating the overview\n",
      "Generated data for 8/18 decks of archetype Rush Warrior\n",
      "Generating the overview\n",
      "Generated data for 9/18 decks of archetype Rush Warrior\n",
      "Generating the overview\n",
      "Generated data for 10/18 decks of archetype Rush Warrior\n",
      "Generating the overview\n",
      "Generated data for 11/18 decks of archetype Rush Warrior\n",
      "Generating the overview\n",
      "Generated data for 12/18 decks of archetype Rush Warrior\n",
      "Generating the overview\n",
      "Generated data for 13/18 decks of archetype Rush Warrior\n",
      "Generating the overview\n",
      "Generated data for 14/18 decks of archetype Rush Warrior\n",
      "Generating the overview\n",
      "Generated data for 15/18 decks of archetype Rush Warrior\n",
      "Generating the overview\n",
      "Generated data for 16/18 decks of archetype Rush Warrior\n",
      "Generating the overview\n",
      "Generated data for 17/18 decks of archetype Rush Warrior\n",
      "Generating the overview\n",
      "Generated data for 18/18 decks of archetype Rush Warrior\n",
      "Time taken in seconds: 453.7902069091797\n"
     ]
    }
   ],
   "source": [
    "start = time.time()\n",
    "output = S.write_to_excel()\n",
    "end = time.time()\n",
    "print('Time taken in seconds:', end - start)"
   ]
  },
  {
   "cell_type": "code",
   "execution_count": 10,
   "id": "a88296a7",
   "metadata": {},
   "outputs": [],
   "source": []
  }
 ],
 "metadata": {
  "kernelspec": {
   "display_name": "Python 3",
   "language": "python",
   "name": "python3"
  },
  "language_info": {
   "codemirror_mode": {
    "name": "ipython",
    "version": 3
   },
   "file_extension": ".py",
   "mimetype": "text/x-python",
   "name": "python",
   "nbconvert_exporter": "python",
   "pygments_lexer": "ipython3",
   "version": "3.8.8"
  }
 },
 "nbformat": 4,
 "nbformat_minor": 5
}
