{
 "cells": [
  {
   "cell_type": "code",
   "execution_count": 1,
   "id": "d1f4ca2b",
   "metadata": {},
   "outputs": [],
   "source": [
    "#!{sys.executable} -m pip install --upgrade --no-cache-dir pysimplegui\n",
    "#!{sys.executable} -m pip install --upgrade --no-cache-dirpip install PyInstaller\n",
    "#Importing the data extractor scripts\n",
    "import sys\n",
    "sys.path.insert(0, 'C:\\\\Users\\\\AU451FE\\\\OneDrive - EY\\\\Desktop\\\\Python\\\\Hearthstone_Archmage\\\\Scripts')\n",
    "\n",
    "#import DataProcessor as P\n",
    "#import Extractors\n",
    "#from UltimateExtractor import UltimateExtractor as UE\n",
    "\n",
    "#Other useful packages\n",
    "import time\n",
    "import datetime\n",
    "import pandas as pd\n",
    "import numpy as np\n",
    "import re #String search\n",
    "import os\n",
    "import PySimpleGUI as sg\n"
   ]
  },
  {
   "cell_type": "code",
   "execution_count": 2,
   "id": "151873e7",
   "metadata": {},
   "outputs": [],
   "source": [
    "start = [1,3,5,7,9]\n",
    "end = [2,4,6,8,10]\n",
    "\n",
    "def enum(i):\n",
    "    start = 2*i+1\n",
    "    end = 2*i+2\n",
    "    \n",
    "    return start, end"
   ]
  },
  {
   "cell_type": "code",
   "execution_count": 3,
   "id": "0d17982a",
   "metadata": {},
   "outputs": [],
   "source": [
    "for i in range(5):\n",
    "    enum(i)"
   ]
  },
  {
   "cell_type": "code",
   "execution_count": null,
   "id": "2a347f96",
   "metadata": {},
   "outputs": [],
   "source": []
  }
 ],
 "metadata": {
  "kernelspec": {
   "display_name": "Python 3",
   "language": "python",
   "name": "python3"
  },
  "language_info": {
   "codemirror_mode": {
    "name": "ipython",
    "version": 3
   },
   "file_extension": ".py",
   "mimetype": "text/x-python",
   "name": "python",
   "nbconvert_exporter": "python",
   "pygments_lexer": "ipython3",
   "version": "3.8.8"
  }
 },
 "nbformat": 4,
 "nbformat_minor": 5
}
