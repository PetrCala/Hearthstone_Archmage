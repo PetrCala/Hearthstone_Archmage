{
 "cells": [
  {
   "cell_type": "code",
   "execution_count": 118,
   "id": "eb0b6ac2",
   "metadata": {},
   "outputs": [],
   "source": [
    "#!{sys.executable} -m pip install -U selenium\n",
    "import DeckAnalyzer as DA\n",
    "\n",
    "import selenium\n",
    "from selenium import webdriver\n",
    "from selenium.webdriver.common.keys import Keys\n",
    "\n",
    "\n",
    "#Other useful packages\n",
    "import sys\n",
    "from bs4 import BeautifulSoup\n",
    "import requests\n",
    "import time\n",
    "from datetime import date\n",
    "import datetime\n",
    "import pandas as pd\n",
    "import numpy as np\n",
    "import re #String search\n"
   ]
  },
  {
   "cell_type": "code",
   "execution_count": 16,
   "id": "f11f79f0",
   "metadata": {},
   "outputs": [],
   "source": [
    "driver_path = 'C:/Users/AU451FE/OneDrive - EY/Desktop/Python/HSreplay_scraper/chromedriver'\n",
    "#deck_code = 'TDJ576DqVJdHynQToOkWtb'"
   ]
  },
  {
   "cell_type": "code",
   "execution_count": 17,
   "id": "ff862821",
   "metadata": {
    "collapsed": true
   },
   "outputs": [
    {
     "name": "stdout",
     "output_type": "stream",
     "text": [
      "Waiting for the privacy settings window to pop up\n",
      "Privacy settings window closed\n"
     ]
    }
   ],
   "source": [
    "D = DA.DeckAnalyzer(driver_path, deck_code)\n"
   ]
  },
  {
   "cell_type": "code",
   "execution_count": 18,
   "id": "9923fac3",
   "metadata": {},
   "outputs": [],
   "source": [
    "D.driver.quit()"
   ]
  },
  {
   "cell_type": "code",
   "execution_count": 148,
   "id": "5b3793a9",
   "metadata": {},
   "outputs": [],
   "source": [
    "class DeckSelector:\n",
    "    '''Define the class and archetype of a deck at hsreplay.net and return the analysis of the decks of said archetype\n",
    "        featured on that website\n",
    "        \n",
    "        deck_class = name of the class in quotes (e.g. 'Druid')\n",
    "        deck_archetype = code for the archetype in quotes (e.g. '372')\n",
    "    '''\n",
    "    def __init__(self, deck_class, deck_archetype):\n",
    "        deck_class = deck_class.upper()    #Converting the deck_class into upper case\n",
    "        self.url = f'https://hsreplay.net/decks/#playerClasses={deck_class}&gameType=RANKED_STANDARD&archetypes={deck_archetype}'\n",
    "        self.driver = webdriver.Chrome(executable_path = driver_path)\n",
    "        self.driver.get(self.url) \n",
    "        \n",
    "        self.driver.maximize_window()      #Maximize the window\n",
    "\n",
    "        print(\"Waiting for the privacy settings window to pop up\")       #Agree to the privacy settings\n",
    "        time.sleep(1.5)\n",
    "\n",
    "        try:\n",
    "            agree = self.driver.find_element_by_class_name('css-flk0bs')\n",
    "            agree.click()\n",
    "        except:\n",
    "            pass\n",
    "        print(\"Privacy settings window closed\")\n",
    "        \n",
    "        #Looks for the codes of the specified archetype\n",
    "        list_decks = self.driver.find_elements_by_class_name('deck-tile')\n",
    "        \n",
    "        codes = []\n",
    "        for l in list_decks:\n",
    "            link = l.get_attribute('href')\n",
    "\n",
    "            try:\n",
    "                m = re.search('decks/(.+?)/#game', link).group(1)\n",
    "\n",
    "            except AttributeError:\n",
    "                print(f'The entered URL is invalid')\n",
    "                break\n",
    "            codes.append(m)\n",
    "\n",
    "        self.codes = codes\n",
    "        print('The codes are stored under the attribute self.codes')\n",
    "    \n",
    "    def get_overviews(self):\n",
    "        '''Return a data frame with an overview of all decks of a given archetype\n",
    "        '''\n",
    "        overview_df = pd.DataFrame()\n",
    "        for c in self.codes:\n",
    "            D = DA.DeckAnalyzer(driver_path, c)\n",
    "            df = D.get_overview_df()\n",
    "            D.driver.quit()\n",
    "            overview_df = pd.concat([overview_df, df], axis = 0)\n",
    "            \n",
    "        overview_df = overview_df.reset_index()\n",
    "        return overview_df"
   ]
  },
  {
   "cell_type": "code",
   "execution_count": null,
   "id": "32515b5c",
   "metadata": {},
   "outputs": [
    {
     "name": "stdout",
     "output_type": "stream",
     "text": [
      "Waiting for the privacy settings window to pop up\n"
     ]
    }
   ],
   "source": [
    "S = DeckSelector('DRUID', '462')"
   ]
  },
  {
   "cell_type": "code",
   "execution_count": null,
   "id": "16497202",
   "metadata": {},
   "outputs": [],
   "source": [
    "S.driver.quit()"
   ]
  },
  {
   "cell_type": "code",
   "execution_count": null,
   "id": "e704b501",
   "metadata": {},
   "outputs": [],
   "source": [
    "#codes_here = ['sUGg1miAk6Drk72nX1uhhc',\n",
    "# 'L5ODjRqeQI5mFk8P6i1mhe']"
   ]
  },
  {
   "cell_type": "code",
   "execution_count": null,
   "id": "06923285",
   "metadata": {},
   "outputs": [],
   "source": [
    "output = S.get_overviews()"
   ]
  },
  {
   "cell_type": "code",
   "execution_count": null,
   "id": "1bf9fed7",
   "metadata": {},
   "outputs": [],
   "source": [
    "output"
   ]
  },
  {
   "cell_type": "code",
   "execution_count": null,
   "id": "a1e70666",
   "metadata": {},
   "outputs": [],
   "source": []
  }
 ],
 "metadata": {
  "kernelspec": {
   "display_name": "Python 3",
   "language": "python",
   "name": "python3"
  },
  "language_info": {
   "codemirror_mode": {
    "name": "ipython",
    "version": 3
   },
   "file_extension": ".py",
   "mimetype": "text/x-python",
   "name": "python",
   "nbconvert_exporter": "python",
   "pygments_lexer": "ipython3",
   "version": "3.8.8"
  }
 },
 "nbformat": 4,
 "nbformat_minor": 5
}
