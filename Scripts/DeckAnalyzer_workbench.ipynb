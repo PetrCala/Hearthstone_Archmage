{
 "cells": [
  {
   "cell_type": "code",
   "execution_count": 1,
   "id": "740cafc5",
   "metadata": {},
   "outputs": [],
   "source": [
    "#The core of the method\n",
    "#!{sys.executable} -m pip install -U selenium\n",
    "import selenium\n",
    "from selenium import webdriver\n",
    "from selenium.webdriver.common.keys import Keys\n",
    "\n",
    "\n",
    "#Other useful packages\n",
    "import sys\n",
    "from bs4 import BeautifulSoup\n",
    "import requests\n",
    "import time\n",
    "from datetime import date\n",
    "import datetime\n",
    "import pandas as pd\n",
    "import numpy as np\n",
    "\n",
    "import DeckAnalyzer as DA"
   ]
  },
  {
   "cell_type": "code",
   "execution_count": 36,
   "id": "ec7a7901",
   "metadata": {},
   "outputs": [],
   "source": [
    "#Specify the folder with the driver and the deck to be analyzed\n",
    "driver_path = 'C:/Users/AU451FE/OneDrive - EY/Desktop/Python/HSreplay Scraper/chromedriver'\n",
    "#deck_code = 'KkJ6wKjyCExtjOrYhCNCZe' #Face Hunter\n",
    "#deck_code = 'TDJ576DqVJdHynQToOkWtb' #No Minion Mage"
   ]
  },
  {
   "cell_type": "code",
   "execution_count": 41,
   "id": "858887a6",
   "metadata": {
    "scrolled": true
   },
   "outputs": [
    {
     "name": "stdout",
     "output_type": "stream",
     "text": [
      "Waiting for the privacy settings window to pop up\n",
      "Privacy settings window closed\n",
      "Generating the overview for deck No Minion Mage\n",
      "Generating the card info for deck No Minion Mage\n"
     ]
    }
   ],
   "source": [
    "#Opens the external browser for analysis\n",
    "#D = DeckAnalyzer(driver_path, deck_code)\n",
    "#D.write_to_excel()\n"
   ]
  },
  {
   "cell_type": "code",
   "execution_count": 42,
   "id": "ee4c564e",
   "metadata": {},
   "outputs": [],
   "source": [
    "#D.driver.quit()"
   ]
  }
 ],
 "metadata": {
  "kernelspec": {
   "display_name": "Python 3",
   "language": "python",
   "name": "python3"
  },
  "language_info": {
   "codemirror_mode": {
    "name": "ipython",
    "version": 3
   },
   "file_extension": ".py",
   "mimetype": "text/x-python",
   "name": "python",
   "nbconvert_exporter": "python",
   "pygments_lexer": "ipython3",
   "version": "3.8.8"
  }
 },
 "nbformat": 4,
 "nbformat_minor": 5
}
